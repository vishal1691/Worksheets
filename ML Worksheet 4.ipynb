{
 "cells": [
  {
   "cell_type": "markdown",
   "metadata": {},
   "source": [
    "1. A)"
   ]
  },
  {
   "cell_type": "markdown",
   "metadata": {},
   "source": [
    "2. A)"
   ]
  },
  {
   "cell_type": "markdown",
   "metadata": {},
   "source": [
    "3. C)"
   ]
  },
  {
   "cell_type": "markdown",
   "metadata": {},
   "source": [
    "4. C)"
   ]
  },
  {
   "cell_type": "markdown",
   "metadata": {},
   "source": [
    "5. B)"
   ]
  },
  {
   "cell_type": "markdown",
   "metadata": {},
   "source": [
    "6. B)"
   ]
  },
  {
   "cell_type": "markdown",
   "metadata": {},
   "source": [
    "7. B)"
   ]
  },
  {
   "cell_type": "markdown",
   "metadata": {},
   "source": [
    "8. B)"
   ]
  },
  {
   "cell_type": "markdown",
   "metadata": {},
   "source": [
    "11. Random Forests are a strong modeling technique and much more robust than a single Decision Tree. They aggregate many decision\n",
    "trees to limit overfitting as well as error due to bias and therefore yield useful results. Random Forests consist of multiple single trees \n",
    "based on a random sample of training data. They are typically more accurate than single decision trees. "
   ]
  },
  {
   "cell_type": "markdown",
   "metadata": {},
   "source": [
    "13. Although widely used, accuracy is almost universally inappropriate for imbalanced classification. The reason is, a high\n",
    "accuracy is achievable by a no skill model that only predicts the majority class. "
   ]
  },
  {
   "cell_type": "markdown",
   "metadata": {},
   "source": [
    "14. F-score, is a measure of a model's accuracy on a dataset. It is used to evaluate binary classification systems, which classify\n",
    "examples into positive or negative. \n",
    "F-score is a way of combining the precision and recall of the model, and it is defined as the harmonic mean of the model's\n",
    "precision and recall. \n",
    "\n",
    "F1 = 2/1/recall * 1/precision = 2 * precision * recall / precision + recall"
   ]
  },
  {
   "cell_type": "markdown",
   "metadata": {},
   "source": [
    "15. Fit() means to fit the model to the data being provided. This is where the model learns from data.\n",
    "\n",
    "Transform() means to transform the data according to the fitted model. \n",
    "\n",
    "Fit_transform() means to do both - Fit the model to the data, then transform the data according to the fitted model. Calling fit_transform\n",
    "is a convenience to avoid needing to call fit and transform sequentially on the same input. "
   ]
  },
  {
   "cell_type": "code",
   "execution_count": null,
   "metadata": {},
   "outputs": [],
   "source": []
  }
 ],
 "metadata": {
  "kernelspec": {
   "display_name": "Python 3",
   "language": "python",
   "name": "python3"
  },
  "language_info": {
   "codemirror_mode": {
    "name": "ipython",
    "version": 3
   },
   "file_extension": ".py",
   "mimetype": "text/x-python",
   "name": "python",
   "nbconvert_exporter": "python",
   "pygments_lexer": "ipython3",
   "version": "3.7.4"
  }
 },
 "nbformat": 4,
 "nbformat_minor": 2
}
